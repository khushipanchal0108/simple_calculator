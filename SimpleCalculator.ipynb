{
  "nbformat": 4,
  "nbformat_minor": 0,
  "metadata": {
    "colab": {
      "provenance": []
    },
    "kernelspec": {
      "name": "python3",
      "display_name": "Python 3"
    },
    "language_info": {
      "name": "python"
    }
  },
  "cells": [
    {
      "cell_type": "code",
      "execution_count": 1,
      "metadata": {
        "colab": {
          "base_uri": "https://localhost:8080/"
        },
        "id": "TzmtrCNz85-b",
        "outputId": "3ef2c5c5-2b54-4f71-9627-a066b8cedd91"
      },
      "outputs": [
        {
          "output_type": "stream",
          "name": "stdout",
          "text": [
            "select operation:\n",
            "1. add\n",
            "2. subtract\n",
            "3. multiply\n",
            "4. divide\n",
            "enter choice (1/2/3/4): 1\n",
            "enter first number: 2\n",
            "enter second number: 3\n",
            "result: 5.0\n"
          ]
        }
      ],
      "source": [
        "def add(x, y):\n",
        "    return x + y\n",
        "\n",
        "def subtract(x, y):\n",
        "    return x - y\n",
        "\n",
        "def multiply(x, y):\n",
        "    return x * y\n",
        "\n",
        "def divide(x, y):\n",
        "    if y == 0:\n",
        "        return \"error: division by zero\"\n",
        "    return x / y\n",
        "\n",
        "def calculator():\n",
        "    print(\"select operation:\")\n",
        "    print(\"1. add\")\n",
        "    print(\"2. subtract\")\n",
        "    print(\"3. multiply\")\n",
        "    print(\"4. divide\")\n",
        "\n",
        "    choice = input(\"enter choice (1/2/3/4): \")\n",
        "\n",
        "    if choice in ('1', '2', '3', '4'):\n",
        "        num1 = float(input(\"enter first number: \"))\n",
        "        num2 = float(input(\"enter second number: \"))\n",
        "\n",
        "        if choice == '1':\n",
        "            print(\"result:\", add(num1, num2))\n",
        "        elif choice == '2':\n",
        "            print(\"result:\", subtract(num1, num2))\n",
        "        elif choice == '3':\n",
        "            print(\"result:\", multiply(num1, num2))\n",
        "        elif choice == '4':\n",
        "            print(\"result:\", divide(num1, num2))\n",
        "    else:\n",
        "        print(\"invalid input\")\n",
        "\n",
        "if __name__ == \"__main__\":\n",
        "    calculator()\n"
      ]
    }
  ]
}